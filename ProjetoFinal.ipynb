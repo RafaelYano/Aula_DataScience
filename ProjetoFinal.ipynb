{
  "nbformat": 4,
  "nbformat_minor": 0,
  "metadata": {
    "colab": {
      "name": "ProjetoFinal.ipynb",
      "provenance": [],
      "collapsed_sections": [],
      "authorship_tag": "ABX9TyPizAZnhGKFtJuYRtuxRuaI",
      "include_colab_link": true
    },
    "kernelspec": {
      "name": "python3",
      "display_name": "Python 3"
    }
  },
  "cells": [
    {
      "cell_type": "markdown",
      "metadata": {
        "id": "view-in-github",
        "colab_type": "text"
      },
      "source": [
        "<a href=\"https://colab.research.google.com/github/RafaelYano/Aula_DataScience/blob/main/ProjetoFinal.ipynb\" target=\"_parent\"><img src=\"https://colab.research.google.com/assets/colab-badge.svg\" alt=\"Open In Colab\"/></a>"
      ]
    },
    {
      "cell_type": "code",
      "metadata": {
        "id": "5IFGCVJ6o3S2",
        "outputId": "13e870df-e6f5-4906-9a40-3626690c26cc",
        "colab": {
          "base_uri": "https://localhost:8080/",
          "height": 443
        }
      },
      "source": [
        "import pandas as pd\n",
        "import seaborn as sns\n",
        "import matplotlib.pyplot as plt\n",
        "import numpy as np\n",
        "#Caso não se tenha o sp.csv.txt: https://drive.google.com/file/d/1i1NUGUsAw84dAxe5sFFxtwAob_64frfK/view?usp=sharing, ou o dados abaixo:\n",
        "#fonte =  \"https://github.com/alura-cursos/imersao-dados-2-2020/blob/master/MICRODADOS_ENEM_2019_SAMPLE_43278.csv?raw=true\"\n",
        "#dados = pd.read_csv(fonte)\n",
        "\n",
        "dados = pd.read_csv(\"/content/sp.csv.txt\", sep=\";\")\n",
        "dados"
      ],
      "execution_count": null,
      "outputs": [
        {
          "output_type": "execute_result",
          "data": {
            "text/html": [
              "<div>\n",
              "<style scoped>\n",
              "    .dataframe tbody tr th:only-of-type {\n",
              "        vertical-align: middle;\n",
              "    }\n",
              "\n",
              "    .dataframe tbody tr th {\n",
              "        vertical-align: top;\n",
              "    }\n",
              "\n",
              "    .dataframe thead th {\n",
              "        text-align: right;\n",
              "    }\n",
              "</style>\n",
              "<table border=\"1\" class=\"dataframe\">\n",
              "  <thead>\n",
              "    <tr style=\"text-align: right;\">\n",
              "      <th></th>\n",
              "      <th>ID</th>\n",
              "      <th>NU_INSCRICAO</th>\n",
              "      <th>NU_ANO</th>\n",
              "      <th>CO_MUNICIPIO_RESIDENCIA</th>\n",
              "      <th>NO_MUNICIPIO_RESIDENCIA</th>\n",
              "      <th>CO_UF_RESIDENCIA</th>\n",
              "      <th>SG_UF_RESIDENCIA</th>\n",
              "      <th>NU_IDADE</th>\n",
              "      <th>TP_SEXO</th>\n",
              "      <th>TP_ESTADO_CIVIL</th>\n",
              "      <th>TP_COR_RACA</th>\n",
              "      <th>TP_NACIONALIDADE</th>\n",
              "      <th>CO_MUNICIPIO_NASCIMENTO</th>\n",
              "      <th>NO_MUNICIPIO_NASCIMENTO</th>\n",
              "      <th>CO_UF_NASCIMENTO</th>\n",
              "      <th>SG_UF_NASCIMENTO</th>\n",
              "      <th>TP_ST_CONCLUSAO</th>\n",
              "      <th>TP_ANO_CONCLUIU</th>\n",
              "      <th>TP_ESCOLA</th>\n",
              "      <th>TP_ENSINO</th>\n",
              "      <th>IN_TREINEIRO</th>\n",
              "      <th>CO_ESCOLA</th>\n",
              "      <th>CO_MUNICIPIO_ESC</th>\n",
              "      <th>NO_MUNICIPIO_ESC</th>\n",
              "      <th>CO_UF_ESC</th>\n",
              "      <th>SG_UF_ESC</th>\n",
              "      <th>TP_DEPENDENCIA_ADM_ESC</th>\n",
              "      <th>TP_LOCALIZACAO_ESC</th>\n",
              "      <th>TP_SIT_FUNC_ESC</th>\n",
              "      <th>IN_BAIXA_VISAO</th>\n",
              "      <th>IN_CEGUEIRA</th>\n",
              "      <th>IN_SURDEZ</th>\n",
              "      <th>IN_DEFICIENCIA_AUDITIVA</th>\n",
              "      <th>IN_SURDO_CEGUEIRA</th>\n",
              "      <th>IN_DEFICIENCIA_FISICA</th>\n",
              "      <th>IN_DEFICIENCIA_MENTAL</th>\n",
              "      <th>IN_DEFICIT_ATENCAO</th>\n",
              "      <th>IN_DISLEXIA</th>\n",
              "      <th>IN_DISCALCULIA</th>\n",
              "      <th>IN_AUTISMO</th>\n",
              "      <th>...</th>\n",
              "      <th>TX_RESPOSTAS_CH</th>\n",
              "      <th>TX_RESPOSTAS_LC</th>\n",
              "      <th>TX_RESPOSTAS_MT</th>\n",
              "      <th>TP_LINGUA</th>\n",
              "      <th>TX_GABARITO_CN</th>\n",
              "      <th>TX_GABARITO_CH</th>\n",
              "      <th>TX_GABARITO_LC</th>\n",
              "      <th>TX_GABARITO_MT</th>\n",
              "      <th>TP_STATUS_REDACAO</th>\n",
              "      <th>NU_NOTA_COMP1</th>\n",
              "      <th>NU_NOTA_COMP2</th>\n",
              "      <th>NU_NOTA_COMP3</th>\n",
              "      <th>NU_NOTA_COMP4</th>\n",
              "      <th>NU_NOTA_COMP5</th>\n",
              "      <th>NU_NOTA_REDACAO</th>\n",
              "      <th>Q001</th>\n",
              "      <th>Q002</th>\n",
              "      <th>Q003</th>\n",
              "      <th>Q004</th>\n",
              "      <th>Q005</th>\n",
              "      <th>Q006</th>\n",
              "      <th>Q007</th>\n",
              "      <th>Q008</th>\n",
              "      <th>Q009</th>\n",
              "      <th>Q010</th>\n",
              "      <th>Q011</th>\n",
              "      <th>Q012</th>\n",
              "      <th>Q013</th>\n",
              "      <th>Q014</th>\n",
              "      <th>Q015</th>\n",
              "      <th>Q016</th>\n",
              "      <th>Q017</th>\n",
              "      <th>Q018</th>\n",
              "      <th>Q019</th>\n",
              "      <th>Q020</th>\n",
              "      <th>Q021</th>\n",
              "      <th>Q022</th>\n",
              "      <th>Q023</th>\n",
              "      <th>Q024</th>\n",
              "      <th>Q025</th>\n",
              "    </tr>\n",
              "  </thead>\n",
              "  <tbody>\n",
              "    <tr>\n",
              "      <th>0</th>\n",
              "      <td>12426</td>\n",
              "      <td>190001017053</td>\n",
              "      <td>2019</td>\n",
              "      <td>3546801</td>\n",
              "      <td>Santa Isabel</td>\n",
              "      <td>35</td>\n",
              "      <td>SP</td>\n",
              "      <td>22</td>\n",
              "      <td>M</td>\n",
              "      <td>1</td>\n",
              "      <td>3</td>\n",
              "      <td>1</td>\n",
              "      <td>1506500.0</td>\n",
              "      <td>Santa Izabel do Pará</td>\n",
              "      <td>15.0</td>\n",
              "      <td>PA</td>\n",
              "      <td>1</td>\n",
              "      <td>4</td>\n",
              "      <td>1</td>\n",
              "      <td>1.0</td>\n",
              "      <td>0</td>\n",
              "      <td>NaN</td>\n",
              "      <td>NaN</td>\n",
              "      <td>NaN</td>\n",
              "      <td>NaN</td>\n",
              "      <td>NaN</td>\n",
              "      <td>NaN</td>\n",
              "      <td>NaN</td>\n",
              "      <td>NaN</td>\n",
              "      <td>0</td>\n",
              "      <td>0</td>\n",
              "      <td>0</td>\n",
              "      <td>0</td>\n",
              "      <td>0</td>\n",
              "      <td>0</td>\n",
              "      <td>0</td>\n",
              "      <td>0</td>\n",
              "      <td>0</td>\n",
              "      <td>0</td>\n",
              "      <td>0</td>\n",
              "      <td>...</td>\n",
              "      <td>EEACECDBADBEABAAEAEACAAAECBEEEBACACCDEDACADCB</td>\n",
              "      <td>ADBBE99999DEDDBCAAAEEDDDBAADCCACECDCAEBCBCEBBA...</td>\n",
              "      <td>EDBADBDBAECBBB*CBADBAECCBACECDEDECBACCECDCCAA</td>\n",
              "      <td>0</td>\n",
              "      <td>AAECACDEADCBCDDDBCBDADAEABCEBABEEBCBEECEBDADC</td>\n",
              "      <td>EEBCEEDBADBBCBABCCADCEBACDBBACCACACBEADBBADCB</td>\n",
              "      <td>ADBBEDCABAABBCBCDAAECDDDBAAAECADECDCEBDEEAECBD...</td>\n",
              "      <td>EEEADBEBACABCDBABECECACDCBDCCEDCDABEDECDDDBAA</td>\n",
              "      <td>1.0</td>\n",
              "      <td>160.0</td>\n",
              "      <td>200.0</td>\n",
              "      <td>180.0</td>\n",
              "      <td>200.0</td>\n",
              "      <td>200.0</td>\n",
              "      <td>940.0</td>\n",
              "      <td>H</td>\n",
              "      <td>E</td>\n",
              "      <td>C</td>\n",
              "      <td>B</td>\n",
              "      <td>7</td>\n",
              "      <td>C</td>\n",
              "      <td>A</td>\n",
              "      <td>B</td>\n",
              "      <td>C</td>\n",
              "      <td>A</td>\n",
              "      <td>A</td>\n",
              "      <td>B</td>\n",
              "      <td>A</td>\n",
              "      <td>B</td>\n",
              "      <td>A</td>\n",
              "      <td>A</td>\n",
              "      <td>A</td>\n",
              "      <td>A</td>\n",
              "      <td>C</td>\n",
              "      <td>A</td>\n",
              "      <td>A</td>\n",
              "      <td>D</td>\n",
              "      <td>A</td>\n",
              "      <td>B</td>\n",
              "      <td>B</td>\n",
              "    </tr>\n",
              "    <tr>\n",
              "      <th>1</th>\n",
              "      <td>14849</td>\n",
              "      <td>190001019476</td>\n",
              "      <td>2019</td>\n",
              "      <td>3538204</td>\n",
              "      <td>Pinhalzinho</td>\n",
              "      <td>35</td>\n",
              "      <td>SP</td>\n",
              "      <td>19</td>\n",
              "      <td>M</td>\n",
              "      <td>1</td>\n",
              "      <td>3</td>\n",
              "      <td>1</td>\n",
              "      <td>1503804.0</td>\n",
              "      <td>Jacundá</td>\n",
              "      <td>15.0</td>\n",
              "      <td>PA</td>\n",
              "      <td>1</td>\n",
              "      <td>2</td>\n",
              "      <td>1</td>\n",
              "      <td>1.0</td>\n",
              "      <td>0</td>\n",
              "      <td>NaN</td>\n",
              "      <td>NaN</td>\n",
              "      <td>NaN</td>\n",
              "      <td>NaN</td>\n",
              "      <td>NaN</td>\n",
              "      <td>NaN</td>\n",
              "      <td>NaN</td>\n",
              "      <td>NaN</td>\n",
              "      <td>0</td>\n",
              "      <td>0</td>\n",
              "      <td>0</td>\n",
              "      <td>0</td>\n",
              "      <td>0</td>\n",
              "      <td>0</td>\n",
              "      <td>0</td>\n",
              "      <td>0</td>\n",
              "      <td>0</td>\n",
              "      <td>0</td>\n",
              "      <td>0</td>\n",
              "      <td>...</td>\n",
              "      <td>NaN</td>\n",
              "      <td>NaN</td>\n",
              "      <td>NaN</td>\n",
              "      <td>1</td>\n",
              "      <td>NaN</td>\n",
              "      <td>NaN</td>\n",
              "      <td>NaN</td>\n",
              "      <td>NaN</td>\n",
              "      <td>NaN</td>\n",
              "      <td>NaN</td>\n",
              "      <td>NaN</td>\n",
              "      <td>NaN</td>\n",
              "      <td>NaN</td>\n",
              "      <td>NaN</td>\n",
              "      <td>NaN</td>\n",
              "      <td>D</td>\n",
              "      <td>D</td>\n",
              "      <td>B</td>\n",
              "      <td>B</td>\n",
              "      <td>4</td>\n",
              "      <td>C</td>\n",
              "      <td>A</td>\n",
              "      <td>B</td>\n",
              "      <td>D</td>\n",
              "      <td>A</td>\n",
              "      <td>B</td>\n",
              "      <td>B</td>\n",
              "      <td>A</td>\n",
              "      <td>A</td>\n",
              "      <td>A</td>\n",
              "      <td>A</td>\n",
              "      <td>A</td>\n",
              "      <td>A</td>\n",
              "      <td>B</td>\n",
              "      <td>A</td>\n",
              "      <td>A</td>\n",
              "      <td>C</td>\n",
              "      <td>A</td>\n",
              "      <td>B</td>\n",
              "      <td>A</td>\n",
              "    </tr>\n",
              "    <tr>\n",
              "      <th>2</th>\n",
              "      <td>15223</td>\n",
              "      <td>190001019850</td>\n",
              "      <td>2019</td>\n",
              "      <td>3550308</td>\n",
              "      <td>São Paulo</td>\n",
              "      <td>35</td>\n",
              "      <td>SP</td>\n",
              "      <td>17</td>\n",
              "      <td>F</td>\n",
              "      <td>1</td>\n",
              "      <td>3</td>\n",
              "      <td>1</td>\n",
              "      <td>1501402.0</td>\n",
              "      <td>Belém</td>\n",
              "      <td>15.0</td>\n",
              "      <td>PA</td>\n",
              "      <td>2</td>\n",
              "      <td>0</td>\n",
              "      <td>3</td>\n",
              "      <td>1.0</td>\n",
              "      <td>0</td>\n",
              "      <td>15567761.0</td>\n",
              "      <td>1501402.0</td>\n",
              "      <td>Belém</td>\n",
              "      <td>15.0</td>\n",
              "      <td>PA</td>\n",
              "      <td>4.0</td>\n",
              "      <td>1.0</td>\n",
              "      <td>1.0</td>\n",
              "      <td>0</td>\n",
              "      <td>0</td>\n",
              "      <td>0</td>\n",
              "      <td>0</td>\n",
              "      <td>0</td>\n",
              "      <td>0</td>\n",
              "      <td>0</td>\n",
              "      <td>0</td>\n",
              "      <td>0</td>\n",
              "      <td>0</td>\n",
              "      <td>0</td>\n",
              "      <td>...</td>\n",
              "      <td>BCDCABABABBCBAEEEBCACACAEDBCCAEBEABEADBAEACCB</td>\n",
              "      <td>BDABE99999BCBDADDBDCDAAECDEECDBCBCCDEDAACDEDBB...</td>\n",
              "      <td>DBEBAECBADCACECADBBBBCEBADCEABECAADDBEDDBAECB</td>\n",
              "      <td>0</td>\n",
              "      <td>DADCCEBBCCACBEEBEEBACBCDDDDADBCBBCEAEADEADAAE</td>\n",
              "      <td>BACCCBABBADCBCEEEBCACACEEDBCCADBEADBADBBBACDB</td>\n",
              "      <td>BDABEABCADBCBAADDBECDAAECDAECBECBCCDEEAAADDBBC...</td>\n",
              "      <td>DBEBACABCDBABECEEEDCBDCCEDCDABEDAADDDECACAECB</td>\n",
              "      <td>1.0</td>\n",
              "      <td>160.0</td>\n",
              "      <td>120.0</td>\n",
              "      <td>200.0</td>\n",
              "      <td>200.0</td>\n",
              "      <td>200.0</td>\n",
              "      <td>880.0</td>\n",
              "      <td>E</td>\n",
              "      <td>E</td>\n",
              "      <td>F</td>\n",
              "      <td>B</td>\n",
              "      <td>6</td>\n",
              "      <td>D</td>\n",
              "      <td>A</td>\n",
              "      <td>B</td>\n",
              "      <td>C</td>\n",
              "      <td>A</td>\n",
              "      <td>A</td>\n",
              "      <td>B</td>\n",
              "      <td>A</td>\n",
              "      <td>A</td>\n",
              "      <td>A</td>\n",
              "      <td>A</td>\n",
              "      <td>A</td>\n",
              "      <td>A</td>\n",
              "      <td>A</td>\n",
              "      <td>A</td>\n",
              "      <td>A</td>\n",
              "      <td>C</td>\n",
              "      <td>A</td>\n",
              "      <td>A</td>\n",
              "      <td>A</td>\n",
              "    </tr>\n",
              "    <tr>\n",
              "      <th>3</th>\n",
              "      <td>20246</td>\n",
              "      <td>190001024874</td>\n",
              "      <td>2019</td>\n",
              "      <td>3548708</td>\n",
              "      <td>São Bernardo do Campo</td>\n",
              "      <td>35</td>\n",
              "      <td>SP</td>\n",
              "      <td>19</td>\n",
              "      <td>M</td>\n",
              "      <td>1</td>\n",
              "      <td>3</td>\n",
              "      <td>1</td>\n",
              "      <td>3548708.0</td>\n",
              "      <td>São Bernardo do Campo</td>\n",
              "      <td>35.0</td>\n",
              "      <td>SP</td>\n",
              "      <td>2</td>\n",
              "      <td>0</td>\n",
              "      <td>2</td>\n",
              "      <td>1.0</td>\n",
              "      <td>0</td>\n",
              "      <td>35904958.0</td>\n",
              "      <td>3548708.0</td>\n",
              "      <td>São Bernardo do Campo</td>\n",
              "      <td>35.0</td>\n",
              "      <td>SP</td>\n",
              "      <td>2.0</td>\n",
              "      <td>1.0</td>\n",
              "      <td>1.0</td>\n",
              "      <td>0</td>\n",
              "      <td>0</td>\n",
              "      <td>0</td>\n",
              "      <td>0</td>\n",
              "      <td>0</td>\n",
              "      <td>0</td>\n",
              "      <td>0</td>\n",
              "      <td>0</td>\n",
              "      <td>0</td>\n",
              "      <td>0</td>\n",
              "      <td>0</td>\n",
              "      <td>...</td>\n",
              "      <td>AC.BECDABAECBCBBEAACA.EDCDEAEAADCEABDAAACEBCC</td>\n",
              "      <td>99999CBEAEBBCEDBABEBDAADCEAEDEBBEACACACACDCEDB...</td>\n",
              "      <td>ADDCEEEDADABDBDAAACAECEBBABEBDBEEBADCEBDEDCDA</td>\n",
              "      <td>1</td>\n",
              "      <td>DADCCEBBCCACBEEBEEBACBCDDDDADBCBBCEAEADEADAAE</td>\n",
              "      <td>ACACEEBCCBABADBBBACDBBACCCCADCEBADCBEEDBBEADB</td>\n",
              "      <td>EBBADCABDABACBCEBDEEAAADDBECDECDDBADBCDAAECBCC...</td>\n",
              "      <td>DBEBACABCDBABECEEEDCBDCCEDCDABEDAADDDECACAECB</td>\n",
              "      <td>1.0</td>\n",
              "      <td>80.0</td>\n",
              "      <td>160.0</td>\n",
              "      <td>120.0</td>\n",
              "      <td>100.0</td>\n",
              "      <td>100.0</td>\n",
              "      <td>560.0</td>\n",
              "      <td>B</td>\n",
              "      <td>B</td>\n",
              "      <td>B</td>\n",
              "      <td>B</td>\n",
              "      <td>4</td>\n",
              "      <td>C</td>\n",
              "      <td>A</td>\n",
              "      <td>C</td>\n",
              "      <td>D</td>\n",
              "      <td>B</td>\n",
              "      <td>B</td>\n",
              "      <td>B</td>\n",
              "      <td>A</td>\n",
              "      <td>B</td>\n",
              "      <td>B</td>\n",
              "      <td>B</td>\n",
              "      <td>A</td>\n",
              "      <td>B</td>\n",
              "      <td>B</td>\n",
              "      <td>B</td>\n",
              "      <td>A</td>\n",
              "      <td>B</td>\n",
              "      <td>B</td>\n",
              "      <td>A</td>\n",
              "      <td>B</td>\n",
              "    </tr>\n",
              "    <tr>\n",
              "      <th>4</th>\n",
              "      <td>20303</td>\n",
              "      <td>190001024931</td>\n",
              "      <td>2019</td>\n",
              "      <td>3549409</td>\n",
              "      <td>São Joaquim da Barra</td>\n",
              "      <td>35</td>\n",
              "      <td>SP</td>\n",
              "      <td>37</td>\n",
              "      <td>M</td>\n",
              "      <td>2</td>\n",
              "      <td>1</td>\n",
              "      <td>1</td>\n",
              "      <td>3549409.0</td>\n",
              "      <td>São Joaquim da Barra</td>\n",
              "      <td>35.0</td>\n",
              "      <td>SP</td>\n",
              "      <td>1</td>\n",
              "      <td>3</td>\n",
              "      <td>1</td>\n",
              "      <td>1.0</td>\n",
              "      <td>0</td>\n",
              "      <td>NaN</td>\n",
              "      <td>NaN</td>\n",
              "      <td>NaN</td>\n",
              "      <td>NaN</td>\n",
              "      <td>NaN</td>\n",
              "      <td>NaN</td>\n",
              "      <td>NaN</td>\n",
              "      <td>NaN</td>\n",
              "      <td>0</td>\n",
              "      <td>0</td>\n",
              "      <td>0</td>\n",
              "      <td>0</td>\n",
              "      <td>0</td>\n",
              "      <td>0</td>\n",
              "      <td>0</td>\n",
              "      <td>0</td>\n",
              "      <td>0</td>\n",
              "      <td>0</td>\n",
              "      <td>0</td>\n",
              "      <td>...</td>\n",
              "      <td>NaN</td>\n",
              "      <td>NaN</td>\n",
              "      <td>NaN</td>\n",
              "      <td>1</td>\n",
              "      <td>NaN</td>\n",
              "      <td>NaN</td>\n",
              "      <td>NaN</td>\n",
              "      <td>NaN</td>\n",
              "      <td>NaN</td>\n",
              "      <td>NaN</td>\n",
              "      <td>NaN</td>\n",
              "      <td>NaN</td>\n",
              "      <td>NaN</td>\n",
              "      <td>NaN</td>\n",
              "      <td>NaN</td>\n",
              "      <td>B</td>\n",
              "      <td>B</td>\n",
              "      <td>A</td>\n",
              "      <td>A</td>\n",
              "      <td>3</td>\n",
              "      <td>C</td>\n",
              "      <td>A</td>\n",
              "      <td>B</td>\n",
              "      <td>C</td>\n",
              "      <td>A</td>\n",
              "      <td>B</td>\n",
              "      <td>B</td>\n",
              "      <td>A</td>\n",
              "      <td>A</td>\n",
              "      <td>A</td>\n",
              "      <td>B</td>\n",
              "      <td>A</td>\n",
              "      <td>A</td>\n",
              "      <td>A</td>\n",
              "      <td>A</td>\n",
              "      <td>A</td>\n",
              "      <td>C</td>\n",
              "      <td>B</td>\n",
              "      <td>B</td>\n",
              "      <td>B</td>\n",
              "    </tr>\n",
              "    <tr>\n",
              "      <th>...</th>\n",
              "      <td>...</td>\n",
              "      <td>...</td>\n",
              "      <td>...</td>\n",
              "      <td>...</td>\n",
              "      <td>...</td>\n",
              "      <td>...</td>\n",
              "      <td>...</td>\n",
              "      <td>...</td>\n",
              "      <td>...</td>\n",
              "      <td>...</td>\n",
              "      <td>...</td>\n",
              "      <td>...</td>\n",
              "      <td>...</td>\n",
              "      <td>...</td>\n",
              "      <td>...</td>\n",
              "      <td>...</td>\n",
              "      <td>...</td>\n",
              "      <td>...</td>\n",
              "      <td>...</td>\n",
              "      <td>...</td>\n",
              "      <td>...</td>\n",
              "      <td>...</td>\n",
              "      <td>...</td>\n",
              "      <td>...</td>\n",
              "      <td>...</td>\n",
              "      <td>...</td>\n",
              "      <td>...</td>\n",
              "      <td>...</td>\n",
              "      <td>...</td>\n",
              "      <td>...</td>\n",
              "      <td>...</td>\n",
              "      <td>...</td>\n",
              "      <td>...</td>\n",
              "      <td>...</td>\n",
              "      <td>...</td>\n",
              "      <td>...</td>\n",
              "      <td>...</td>\n",
              "      <td>...</td>\n",
              "      <td>...</td>\n",
              "      <td>...</td>\n",
              "      <td>...</td>\n",
              "      <td>...</td>\n",
              "      <td>...</td>\n",
              "      <td>...</td>\n",
              "      <td>...</td>\n",
              "      <td>...</td>\n",
              "      <td>...</td>\n",
              "      <td>...</td>\n",
              "      <td>...</td>\n",
              "      <td>...</td>\n",
              "      <td>...</td>\n",
              "      <td>...</td>\n",
              "      <td>...</td>\n",
              "      <td>...</td>\n",
              "      <td>...</td>\n",
              "      <td>...</td>\n",
              "      <td>...</td>\n",
              "      <td>...</td>\n",
              "      <td>...</td>\n",
              "      <td>...</td>\n",
              "      <td>...</td>\n",
              "      <td>...</td>\n",
              "      <td>...</td>\n",
              "      <td>...</td>\n",
              "      <td>...</td>\n",
              "      <td>...</td>\n",
              "      <td>...</td>\n",
              "      <td>...</td>\n",
              "      <td>...</td>\n",
              "      <td>...</td>\n",
              "      <td>...</td>\n",
              "      <td>...</td>\n",
              "      <td>...</td>\n",
              "      <td>...</td>\n",
              "      <td>...</td>\n",
              "      <td>...</td>\n",
              "      <td>...</td>\n",
              "      <td>...</td>\n",
              "      <td>...</td>\n",
              "      <td>...</td>\n",
              "      <td>...</td>\n",
              "    </tr>\n",
              "    <tr>\n",
              "      <th>813767</th>\n",
              "      <td>5094426</td>\n",
              "      <td>190006119053</td>\n",
              "      <td>2019</td>\n",
              "      <td>3550308</td>\n",
              "      <td>São Paulo</td>\n",
              "      <td>35</td>\n",
              "      <td>SP</td>\n",
              "      <td>17</td>\n",
              "      <td>F</td>\n",
              "      <td>1</td>\n",
              "      <td>2</td>\n",
              "      <td>1</td>\n",
              "      <td>3550308.0</td>\n",
              "      <td>São Paulo</td>\n",
              "      <td>35.0</td>\n",
              "      <td>SP</td>\n",
              "      <td>2</td>\n",
              "      <td>0</td>\n",
              "      <td>2</td>\n",
              "      <td>1.0</td>\n",
              "      <td>0</td>\n",
              "      <td>35925457.0</td>\n",
              "      <td>3550308.0</td>\n",
              "      <td>São Paulo</td>\n",
              "      <td>35.0</td>\n",
              "      <td>SP</td>\n",
              "      <td>2.0</td>\n",
              "      <td>1.0</td>\n",
              "      <td>1.0</td>\n",
              "      <td>0</td>\n",
              "      <td>0</td>\n",
              "      <td>0</td>\n",
              "      <td>0</td>\n",
              "      <td>0</td>\n",
              "      <td>0</td>\n",
              "      <td>0</td>\n",
              "      <td>0</td>\n",
              "      <td>0</td>\n",
              "      <td>0</td>\n",
              "      <td>0</td>\n",
              "      <td>...</td>\n",
              "      <td>DDACEBECDCCABCAEEBBABABCCCDAEDDABDEDBDDCDCAEE</td>\n",
              "      <td>99999ADAAAEDEBDCBEBBBAADCDBCDEEBDCEDEDAABACECB...</td>\n",
              "      <td>CBDBEAECBCAAEAECAEECBEEADDBEBCCCCECACEAABBCCA</td>\n",
              "      <td>1</td>\n",
              "      <td>DEADBAAAEBEECEBCBCBCBDADAEABCEDDDDADCBEECACBC</td>\n",
              "      <td>ACACEEBCCBABADBBBACDBBACCCCADCEBADCBEEDBBEADB</td>\n",
              "      <td>EBBADCABDABACBCEBDEEAAADDBECDECDDBADBCDAAECBCC...</td>\n",
              "      <td>AADDDBEEEBEDDBEBACABCDBABECECACAECDCBDCCEDCDA</td>\n",
              "      <td>1.0</td>\n",
              "      <td>80.0</td>\n",
              "      <td>120.0</td>\n",
              "      <td>140.0</td>\n",
              "      <td>120.0</td>\n",
              "      <td>100.0</td>\n",
              "      <td>560.0</td>\n",
              "      <td>B</td>\n",
              "      <td>D</td>\n",
              "      <td>B</td>\n",
              "      <td>B</td>\n",
              "      <td>5</td>\n",
              "      <td>F</td>\n",
              "      <td>A</td>\n",
              "      <td>C</td>\n",
              "      <td>C</td>\n",
              "      <td>A</td>\n",
              "      <td>A</td>\n",
              "      <td>B</td>\n",
              "      <td>A</td>\n",
              "      <td>A</td>\n",
              "      <td>A</td>\n",
              "      <td>B</td>\n",
              "      <td>A</td>\n",
              "      <td>A</td>\n",
              "      <td>C</td>\n",
              "      <td>A</td>\n",
              "      <td>B</td>\n",
              "      <td>E</td>\n",
              "      <td>B</td>\n",
              "      <td>B</td>\n",
              "      <td>B</td>\n",
              "    </tr>\n",
              "    <tr>\n",
              "      <th>813768</th>\n",
              "      <td>5094427</td>\n",
              "      <td>190006119054</td>\n",
              "      <td>2019</td>\n",
              "      <td>3550308</td>\n",
              "      <td>São Paulo</td>\n",
              "      <td>35</td>\n",
              "      <td>SP</td>\n",
              "      <td>17</td>\n",
              "      <td>F</td>\n",
              "      <td>1</td>\n",
              "      <td>3</td>\n",
              "      <td>1</td>\n",
              "      <td>3550308.0</td>\n",
              "      <td>São Paulo</td>\n",
              "      <td>35.0</td>\n",
              "      <td>SP</td>\n",
              "      <td>2</td>\n",
              "      <td>0</td>\n",
              "      <td>2</td>\n",
              "      <td>1.0</td>\n",
              "      <td>0</td>\n",
              "      <td>35001156.0</td>\n",
              "      <td>3550308.0</td>\n",
              "      <td>São Paulo</td>\n",
              "      <td>35.0</td>\n",
              "      <td>SP</td>\n",
              "      <td>2.0</td>\n",
              "      <td>1.0</td>\n",
              "      <td>1.0</td>\n",
              "      <td>0</td>\n",
              "      <td>0</td>\n",
              "      <td>0</td>\n",
              "      <td>0</td>\n",
              "      <td>0</td>\n",
              "      <td>0</td>\n",
              "      <td>0</td>\n",
              "      <td>0</td>\n",
              "      <td>0</td>\n",
              "      <td>0</td>\n",
              "      <td>0</td>\n",
              "      <td>...</td>\n",
              "      <td>ABAABBBADDCAECBBBCEBCACCEECACDECDBCDCEDBABCDB</td>\n",
              "      <td>BACBC99999CCDBDEBCDBEAADCCDADAEBABDABDAACABCCA...</td>\n",
              "      <td>ACDCACEBAEABCEDABECACDCADBDCABEEBCDAEDABDACBD</td>\n",
              "      <td>0</td>\n",
              "      <td>DADCCEBBCCACBEEBEEBACBCDDDDADBCBBCEAEADEADAAE</td>\n",
              "      <td>CBABADBBCEEEBCBADCBEEDBBEADBBACDBBACCCCADACAC</td>\n",
              "      <td>BBEDABDACACBABAECBBCCADCEBDBBCDDEEAAADDBECDECA...</td>\n",
              "      <td>DBEBACABCDBABECEEEDCBDCCEDCDABEDAADDDECACAECB</td>\n",
              "      <td>1.0</td>\n",
              "      <td>120.0</td>\n",
              "      <td>80.0</td>\n",
              "      <td>60.0</td>\n",
              "      <td>120.0</td>\n",
              "      <td>0.0</td>\n",
              "      <td>380.0</td>\n",
              "      <td>H</td>\n",
              "      <td>E</td>\n",
              "      <td>F</td>\n",
              "      <td>B</td>\n",
              "      <td>2</td>\n",
              "      <td>C</td>\n",
              "      <td>A</td>\n",
              "      <td>B</td>\n",
              "      <td>C</td>\n",
              "      <td>A</td>\n",
              "      <td>A</td>\n",
              "      <td>B</td>\n",
              "      <td>A</td>\n",
              "      <td>B</td>\n",
              "      <td>B</td>\n",
              "      <td>B</td>\n",
              "      <td>A</td>\n",
              "      <td>A</td>\n",
              "      <td>B</td>\n",
              "      <td>A</td>\n",
              "      <td>B</td>\n",
              "      <td>C</td>\n",
              "      <td>A</td>\n",
              "      <td>A</td>\n",
              "      <td>B</td>\n",
              "    </tr>\n",
              "    <tr>\n",
              "      <th>813769</th>\n",
              "      <td>5094428</td>\n",
              "      <td>190006119055</td>\n",
              "      <td>2019</td>\n",
              "      <td>3550308</td>\n",
              "      <td>São Paulo</td>\n",
              "      <td>35</td>\n",
              "      <td>SP</td>\n",
              "      <td>17</td>\n",
              "      <td>M</td>\n",
              "      <td>1</td>\n",
              "      <td>3</td>\n",
              "      <td>1</td>\n",
              "      <td>3550308.0</td>\n",
              "      <td>São Paulo</td>\n",
              "      <td>35.0</td>\n",
              "      <td>SP</td>\n",
              "      <td>2</td>\n",
              "      <td>0</td>\n",
              "      <td>2</td>\n",
              "      <td>1.0</td>\n",
              "      <td>0</td>\n",
              "      <td>NaN</td>\n",
              "      <td>NaN</td>\n",
              "      <td>NaN</td>\n",
              "      <td>NaN</td>\n",
              "      <td>NaN</td>\n",
              "      <td>NaN</td>\n",
              "      <td>NaN</td>\n",
              "      <td>NaN</td>\n",
              "      <td>0</td>\n",
              "      <td>0</td>\n",
              "      <td>0</td>\n",
              "      <td>0</td>\n",
              "      <td>0</td>\n",
              "      <td>0</td>\n",
              "      <td>0</td>\n",
              "      <td>0</td>\n",
              "      <td>0</td>\n",
              "      <td>0</td>\n",
              "      <td>0</td>\n",
              "      <td>...</td>\n",
              "      <td>EEAEBBDDADBCABCBCCAEBAEACABCEBDACBCCAEBEDBACC</td>\n",
              "      <td>ABCBE99999CABCBDEAEECBDCEACEEAAEDCDCCDACACCBEA...</td>\n",
              "      <td>EDABBACCDBECBCAECAEADCEBAEBBCBACDBAABDBECBCCD</td>\n",
              "      <td>0</td>\n",
              "      <td>DADCCEBBCCACBEEBEEBACBCDDDDADBCBBCEAEADEADAAE</td>\n",
              "      <td>EEBCEEDBADBBCBABCCADCEBACDBBACCACACBEADBBADCB</td>\n",
              "      <td>ADBBEDCABAABBCBCDAAECDDDBAAAECADECDCEBDEEAECBD...</td>\n",
              "      <td>DBEBACABCDBABECEEEDCBDCCEDCDABEDAADDDECACAECB</td>\n",
              "      <td>1.0</td>\n",
              "      <td>160.0</td>\n",
              "      <td>120.0</td>\n",
              "      <td>160.0</td>\n",
              "      <td>140.0</td>\n",
              "      <td>160.0</td>\n",
              "      <td>740.0</td>\n",
              "      <td>D</td>\n",
              "      <td>E</td>\n",
              "      <td>C</td>\n",
              "      <td>B</td>\n",
              "      <td>3</td>\n",
              "      <td>C</td>\n",
              "      <td>A</td>\n",
              "      <td>B</td>\n",
              "      <td>C</td>\n",
              "      <td>A</td>\n",
              "      <td>A</td>\n",
              "      <td>B</td>\n",
              "      <td>B</td>\n",
              "      <td>B</td>\n",
              "      <td>A</td>\n",
              "      <td>B</td>\n",
              "      <td>A</td>\n",
              "      <td>A</td>\n",
              "      <td>B</td>\n",
              "      <td>A</td>\n",
              "      <td>A</td>\n",
              "      <td>C</td>\n",
              "      <td>A</td>\n",
              "      <td>A</td>\n",
              "      <td>A</td>\n",
              "    </tr>\n",
              "    <tr>\n",
              "      <th>813770</th>\n",
              "      <td>5094429</td>\n",
              "      <td>190006119056</td>\n",
              "      <td>2019</td>\n",
              "      <td>3509205</td>\n",
              "      <td>Cajamar</td>\n",
              "      <td>35</td>\n",
              "      <td>SP</td>\n",
              "      <td>21</td>\n",
              "      <td>F</td>\n",
              "      <td>1</td>\n",
              "      <td>3</td>\n",
              "      <td>1</td>\n",
              "      <td>3550308.0</td>\n",
              "      <td>São Paulo</td>\n",
              "      <td>35.0</td>\n",
              "      <td>SP</td>\n",
              "      <td>1</td>\n",
              "      <td>0</td>\n",
              "      <td>1</td>\n",
              "      <td>NaN</td>\n",
              "      <td>0</td>\n",
              "      <td>NaN</td>\n",
              "      <td>NaN</td>\n",
              "      <td>NaN</td>\n",
              "      <td>NaN</td>\n",
              "      <td>NaN</td>\n",
              "      <td>NaN</td>\n",
              "      <td>NaN</td>\n",
              "      <td>NaN</td>\n",
              "      <td>0</td>\n",
              "      <td>0</td>\n",
              "      <td>0</td>\n",
              "      <td>0</td>\n",
              "      <td>0</td>\n",
              "      <td>0</td>\n",
              "      <td>0</td>\n",
              "      <td>0</td>\n",
              "      <td>0</td>\n",
              "      <td>0</td>\n",
              "      <td>0</td>\n",
              "      <td>...</td>\n",
              "      <td>NaN</td>\n",
              "      <td>NaN</td>\n",
              "      <td>NaN</td>\n",
              "      <td>1</td>\n",
              "      <td>NaN</td>\n",
              "      <td>NaN</td>\n",
              "      <td>NaN</td>\n",
              "      <td>NaN</td>\n",
              "      <td>NaN</td>\n",
              "      <td>NaN</td>\n",
              "      <td>NaN</td>\n",
              "      <td>NaN</td>\n",
              "      <td>NaN</td>\n",
              "      <td>NaN</td>\n",
              "      <td>NaN</td>\n",
              "      <td>C</td>\n",
              "      <td>E</td>\n",
              "      <td>B</td>\n",
              "      <td>B</td>\n",
              "      <td>3</td>\n",
              "      <td>C</td>\n",
              "      <td>A</td>\n",
              "      <td>C</td>\n",
              "      <td>C</td>\n",
              "      <td>B</td>\n",
              "      <td>A</td>\n",
              "      <td>B</td>\n",
              "      <td>A</td>\n",
              "      <td>B</td>\n",
              "      <td>A</td>\n",
              "      <td>B</td>\n",
              "      <td>A</td>\n",
              "      <td>B</td>\n",
              "      <td>B</td>\n",
              "      <td>A</td>\n",
              "      <td>B</td>\n",
              "      <td>D</td>\n",
              "      <td>B</td>\n",
              "      <td>B</td>\n",
              "      <td>B</td>\n",
              "    </tr>\n",
              "    <tr>\n",
              "      <th>813771</th>\n",
              "      <td>5094430</td>\n",
              "      <td>190006119057</td>\n",
              "      <td>2019</td>\n",
              "      <td>3503307</td>\n",
              "      <td>Araras</td>\n",
              "      <td>35</td>\n",
              "      <td>SP</td>\n",
              "      <td>18</td>\n",
              "      <td>F</td>\n",
              "      <td>1</td>\n",
              "      <td>1</td>\n",
              "      <td>1</td>\n",
              "      <td>3503307.0</td>\n",
              "      <td>Araras</td>\n",
              "      <td>35.0</td>\n",
              "      <td>SP</td>\n",
              "      <td>2</td>\n",
              "      <td>0</td>\n",
              "      <td>2</td>\n",
              "      <td>1.0</td>\n",
              "      <td>0</td>\n",
              "      <td>35019926.0</td>\n",
              "      <td>3503307.0</td>\n",
              "      <td>Araras</td>\n",
              "      <td>35.0</td>\n",
              "      <td>SP</td>\n",
              "      <td>2.0</td>\n",
              "      <td>1.0</td>\n",
              "      <td>1.0</td>\n",
              "      <td>0</td>\n",
              "      <td>0</td>\n",
              "      <td>0</td>\n",
              "      <td>0</td>\n",
              "      <td>0</td>\n",
              "      <td>0</td>\n",
              "      <td>0</td>\n",
              "      <td>0</td>\n",
              "      <td>0</td>\n",
              "      <td>0</td>\n",
              "      <td>0</td>\n",
              "      <td>...</td>\n",
              "      <td>EAEAABAEABACACEBECCECEBCBDDABAAAAEDBABBEBABAA</td>\n",
              "      <td>BBDDE99999CCBABDDDDEDAAECBEECBBCBDCDEBAADDCBBE...</td>\n",
              "      <td>ADCBCDECCDBCDBBCACCBDDABCDBECDCBCDBCCBEBADBCD</td>\n",
              "      <td>0</td>\n",
              "      <td>DEADBAAAEBEECEBCBCBCBDADAEABCEDDDDADCBEECACBC</td>\n",
              "      <td>BACCCBABBADCBCEEEBCACACEEDBCCADBEADBADBBBACDB</td>\n",
              "      <td>BDABEABCADBCBAADDBECDAAECDAECBECBCCDEEAAADDBBC...</td>\n",
              "      <td>AADDDBEEEBEDDBEBACABCDBABECECACAECDCBDCCEDCDA</td>\n",
              "      <td>1.0</td>\n",
              "      <td>120.0</td>\n",
              "      <td>120.0</td>\n",
              "      <td>120.0</td>\n",
              "      <td>120.0</td>\n",
              "      <td>140.0</td>\n",
              "      <td>620.0</td>\n",
              "      <td>C</td>\n",
              "      <td>C</td>\n",
              "      <td>C</td>\n",
              "      <td>B</td>\n",
              "      <td>5</td>\n",
              "      <td>H</td>\n",
              "      <td>A</td>\n",
              "      <td>C</td>\n",
              "      <td>D</td>\n",
              "      <td>A</td>\n",
              "      <td>B</td>\n",
              "      <td>B</td>\n",
              "      <td>B</td>\n",
              "      <td>B</td>\n",
              "      <td>A</td>\n",
              "      <td>B</td>\n",
              "      <td>A</td>\n",
              "      <td>A</td>\n",
              "      <td>B</td>\n",
              "      <td>A</td>\n",
              "      <td>A</td>\n",
              "      <td>E</td>\n",
              "      <td>B</td>\n",
              "      <td>B</td>\n",
              "      <td>B</td>\n",
              "    </tr>\n",
              "  </tbody>\n",
              "</table>\n",
              "<p>813772 rows × 137 columns</p>\n",
              "</div>"
            ],
            "text/plain": [
              "             ID   NU_INSCRICAO  NU_ANO  ...  Q023 Q024  Q025 \n",
              "0         12426   190001017053    2019  ...     A    B     B \n",
              "1         14849   190001019476    2019  ...     A    B     A \n",
              "2         15223   190001019850    2019  ...     A    A     A \n",
              "3         20246   190001024874    2019  ...     B    A     B \n",
              "4         20303   190001024931    2019  ...     B    B     B \n",
              "...         ...            ...     ...  ...   ...  ...    ...\n",
              "813767  5094426   190006119053    2019  ...     B    B     B \n",
              "813768  5094427   190006119054    2019  ...     A    A     B \n",
              "813769  5094428   190006119055    2019  ...     A    A     A \n",
              "813770  5094429   190006119056    2019  ...     B    B     B \n",
              "813771  5094430   190006119057    2019  ...     B    B     B \n",
              "\n",
              "[813772 rows x 137 columns]"
            ]
          },
          "metadata": {
            "tags": []
          },
          "execution_count": 43
        }
      ]
    },
    {
      "cell_type": "markdown",
      "metadata": {
        "id": "A5ibNjGYqc-8"
      },
      "source": [
        "## Dados analisados em aula"
      ]
    },
    {
      "cell_type": "markdown",
      "metadata": {
        "id": "7fjvtDmIqyIj"
      },
      "source": [
        "Um dos dados observados em aula fora sobre os alunos que fizeram a prova do enem fora de seu estado de residênca"
      ]
    },
    {
      "cell_type": "code",
      "metadata": {
        "id": "uhe4Kp7zqcBs",
        "outputId": "efe494b1-b0ed-499e-dc44-a07611f32658",
        "colab": {
          "base_uri": "https://localhost:8080/",
          "height": 522
        }
      },
      "source": [
        "#separando as pessoas que fizeram a prova em um estado diferente do seu estado de residência e colocando no gráfico onde estas foram realizados\n",
        "dados.query(\"SG_UF_RESIDENCIA != SG_UF_PROVA\")[\"SG_UF_PROVA\"].value_counts().plot.bar(figsize=(10,8), title= \"Estado das pessoas que fizeram o enem em outro estado\" )\n"
      ],
      "execution_count": null,
      "outputs": [
        {
          "output_type": "execute_result",
          "data": {
            "text/plain": [
              "<matplotlib.axes._subplots.AxesSubplot at 0x7f484ecd8898>"
            ]
          },
          "metadata": {
            "tags": []
          },
          "execution_count": 44
        },
        {
          "output_type": "display_data",
          "data": {
            "image/png": "[encoded data removed]",
            "text/plain": [
              "<Figure size 720x576 with 1 Axes>"
            ]
          },
          "metadata": {
            "tags": [],
            "needs_background": "light"
          }
        }
      ]
    },
    {
      "cell_type": "markdown",
      "metadata": {
        "id": "3NiM55lptkFB"
      },
      "source": [
        "Como pode ser observado, a maioria das pessoas que residem em São Paulo e que realizaram a prova em outro estado, a fizeram principalmente em Minas Gerais, seguidos por Rio de Janeiro, Paraná e Mato Grosso do Sul, Estados que fazem divisa com São Paulo. Os motivos para se efetuar a prova em outro estado pode ser por estes terem nascido em outros Estados ou estudarem em escolas de outro estado"
      ]
    },
    {
      "cell_type": "code",
      "metadata": {
        "id": "F7gv-mWytHa3",
        "outputId": "af60943e-aa22-45b3-dc45-47f8ad5c63d6",
        "colab": {
          "base_uri": "https://localhost:8080/",
          "height": 285
        }
      },
      "source": [
        "#Vendo que realizou a prova no mesmo estado de nascimento\n",
        "plt.figure(figsize=(14,8))\n",
        "plt.subplot(2,2,1)\n",
        "dados.query(\"SG_UF_RESIDENCIA != SG_UF_PROVA & SG_UF_PROVA == SG_UF_NASCIMENTO \")[\"SG_UF_PROVA\"].value_counts().plot.bar( title= \"Realizaram a prova no mesmo estado de nascimento\" )\n",
        "#Quem estuda em uma escola em outro estado\n",
        "plt.subplot(2,2,2)\n",
        "dados.query(\"SG_UF_RESIDENCIA != SG_UF_PROVA & SG_UF_ESC != SG_UF_RESIDENCIA \")[\"SG_UF_ESC\"].value_counts().plot.bar(title= \"Estudam em uma escola diferente do estado no qual residem\" )\n"
      ],
      "execution_count": null,
      "outputs": [
        {
          "output_type": "execute_result",
          "data": {
            "text/plain": [
              "<matplotlib.axes._subplots.AxesSubplot at 0x7f4846ea2cc0>"
            ]
          },
          "metadata": {
            "tags": []
          },
          "execution_count": 45
        },
        {
          "output_type": "display_data",
          "data": {
            "image/png": "[encoded data removed]",
            "text/plain": [
              "<Figure size 1008x576 with 2 Axes>"
            ]
          },
          "metadata": {
            "tags": [],
            "needs_background": "light"
          }
        }
      ]
    },
    {
      "cell_type": "markdown",
      "metadata": {
        "id": "xYihpPTlrRE2"
      },
      "source": [
        "De fato, há pessoas que voltaram ao seu Estado de nascimento ou que realizaram a prova na escola em que estudam. Em todo caso, Minas Gerais continua sendo o Estado com maior representatividade. "
      ]
    },
    {
      "cell_type": "markdown",
      "metadata": {
        "id": "WMfnxF1oU7JY"
      },
      "source": [
        "Olhando-se para quem fez a prova em Minas Gerais e mora em São Paulo:"
      ]
    },
    {
      "cell_type": "code",
      "metadata": {
        "id": "AY8hoWresYbH",
        "outputId": "bbdb2ade-ca5f-49fe-8262-dfa5c240b136",
        "colab": {
          "base_uri": "https://localhost:8080/",
          "height": 230
        }
      },
      "source": [
        "#Municípios de quem realizou a prova em minas gerais\n",
        "prova_MG = dados.query(\"SG_UF_PROVA == 'MG'\")[\"NO_MUNICIPIO_RESIDENCIA\"]\n",
        "prova_MG.value_counts()"
      ],
      "execution_count": null,
      "outputs": [
        {
          "output_type": "execute_result",
          "data": {
            "text/plain": [
              "Águas de Lindóia       320\n",
              "Igarapava              143\n",
              "São Paulo               96\n",
              "São José dos Campos     40\n",
              "Ribeirão Preto          39\n",
              "                      ... \n",
              "Barra Bonita             1\n",
              "Ibaté                    1\n",
              "Potim                    1\n",
              "Sandovalina              1\n",
              "Serrana                  1\n",
              "Name: NO_MUNICIPIO_RESIDENCIA, Length: 197, dtype: int64"
            ]
          },
          "metadata": {
            "tags": []
          },
          "execution_count": 46
        }
      ]
    },
    {
      "cell_type": "markdown",
      "metadata": {
        "id": "FRvz2kFAvUGZ"
      },
      "source": [
        "As cidades com valores mais expressivos são Águas de Lindóia e Igarapava, cidades muito próximas de MG. Pode-se dizer que, além do Estado de nascimento ser Minas Gerais, a proximidade para com o Estado influência para que as pessoas façam provas em Minas Gerais. Águas de Lindóia é a cidade que teve maior número de alunos realizando prova em Minas Gerais."
      ]
    },
    {
      "cell_type": "markdown",
      "metadata": {
        "id": "jRdpAC7-Wq1E"
      },
      "source": [
        "Cidades em que, vestibulandos que moram em Água de Lindóia, fazem o ensino médio: "
      ]
    },
    {
      "cell_type": "code",
      "metadata": {
        "id": "KVd3eyM3D2Wl",
        "outputId": "1f68bac1-ef54-4e87-9cbd-b5448be1cb24",
        "colab": {
          "base_uri": "https://localhost:8080/",
          "height": 123
        }
      },
      "source": [
        "a_lindoia = dados.query(\"NO_MUNICIPIO_RESIDENCIA == 'Águas de Lindóia'\")\n",
        "a_lindoia[\"NO_MUNICIPIO_ESC\"].value_counts()"
      ],
      "execution_count": null,
      "outputs": [
        {
          "output_type": "execute_result",
          "data": {
            "text/plain": [
              "Águas de Lindóia     96\n",
              "Monte Sião           13\n",
              "Amparo                5\n",
              "Lindóia               2\n",
              "Engenheiro Coelho     2\n",
              "Name: NO_MUNICIPIO_ESC, dtype: int64"
            ]
          },
          "metadata": {
            "tags": []
          },
          "execution_count": 47
        }
      ]
    },
    {
      "cell_type": "code",
      "metadata": {
        "id": "_t1iuogaZKRw",
        "outputId": "4a8c87bb-ea4b-423e-8bdd-5960b29792be",
        "colab": {
          "base_uri": "https://localhost:8080/",
          "height": 230
        }
      },
      "source": [
        "#verificando se os dados foram preenchidos\n",
        "a_lindoia[\"NO_MUNICIPIO_ESC\"]"
      ],
      "execution_count": null,
      "outputs": [
        {
          "output_type": "execute_result",
          "data": {
            "text/plain": [
              "61                     NaN\n",
              "70                     NaN\n",
              "76        Águas de Lindóia\n",
              "83        Águas de Lindóia\n",
              "85                     NaN\n",
              "                ...       \n",
              "793939                 NaN\n",
              "795954                 NaN\n",
              "798146                 NaN\n",
              "811010                 NaN\n",
              "813465                 NaN\n",
              "Name: NO_MUNICIPIO_ESC, Length: 355, dtype: object"
            ]
          },
          "metadata": {
            "tags": []
          },
          "execution_count": 48
        }
      ]
    },
    {
      "cell_type": "markdown",
      "metadata": {
        "id": "54Yznc02ZJTf"
      },
      "source": [
        "Fora considerado que um dos motivos para haver tantos alunos de Águas de Lindóia fazendo ENEM em Minas Gerais, seria pelo fato de muitos destes estudarem em escolas de Monte Sião-MG. Apesar disso, muitos não informaram em qual cidade estudam."
      ]
    },
    {
      "cell_type": "markdown",
      "metadata": {
        "id": "Vm1st2Dvw6sv"
      },
      "source": [
        "Outro dado analisado é quanto a aspectos sociais "
      ]
    },
    {
      "cell_type": "code",
      "metadata": {
        "id": "ZrsBCuCZxLcw",
        "outputId": "94f1e942-497d-475d-b483-88b5ba7b1277",
        "colab": {
          "base_uri": "https://localhost:8080/",
          "height": 531
        }
      },
      "source": [
        "#Obetendo o total de notas\n",
        "provas = [\"NU_NOTA_CN\", \"NU_NOTA_CH\", \"NU_NOTA_MT\", \"NU_NOTA_LC\", \"NU_NOTA_REDACAO\"]\n",
        "dados[\"NU_NOTA_TOTAL\"] =dados[provas].sum(axis = 1)\n",
        "provas = [\"NU_NOTA_CN\", \"NU_NOTA_CH\", \"NU_NOTA_MT\", \"NU_NOTA_LC\", \"NU_NOTA_REDACAO\",\"NU_NOTA_TOTAL\"]\n",
        "#ordenando Q006, renda mensal\n",
        "renda = dados[\"Q006\"].unique()\n",
        "renda[0:16].sort()\n",
        "# Selecionando as notas sem 0\n",
        "dados_sem_notas_zeros = dados.query(\"NU_NOTA_TOTAL != 0\")\n",
        "#Criando um boxplot ordenado\n",
        "plt.figure(figsize=(10,8))\n",
        "sns.boxplot(x=\"Q006\", y = \"NU_NOTA_TOTAL\", data = dados_sem_notas_zeros, order = renda)\n",
        "plt.title(\"Boxplot das notas totais pela renda\")"
      ],
      "execution_count": null,
      "outputs": [
        {
          "output_type": "execute_result",
          "data": {
            "text/plain": [
              "Text(0.5, 1.0, 'Boxplot das notas totais pela renda')"
            ]
          },
          "metadata": {
            "tags": []
          },
          "execution_count": 49
        },
        {
          "output_type": "display_data",
          "data": {
            "image/png": "[encoded data removed]",
            "text/plain": [
              "<Figure size 720x576 with 1 Axes>"
            ]
          },
          "metadata": {
            "tags": [],
            "needs_background": "light"
          }
        }
      ]
    },
    {
      "cell_type": "markdown",
      "metadata": {
        "id": "455qm4Xtz4sw"
      },
      "source": [
        "É possível observar que há um aumento das notas a medida que se a renda familiar se torna mais alta."
      ]
    },
    {
      "cell_type": "code",
      "metadata": {
        "id": "8P0-a8-vBxx3",
        "outputId": "f7bcc818-21c3-4d48-e99a-a7adcb409992",
        "colab": {
          "base_uri": "https://localhost:8080/",
          "height": 77
        }
      },
      "source": [
        "medianas_renda = pd.DataFrame()\n",
        "medianas_renda[\"moda_A\"] = dados_sem_notas_zeros.query(\"Q006 == 'A'\")[\"NU_NOTA_TOTAL\"].mode()\n",
        "medianas_renda[\"moda_B\"] = dados_sem_notas_zeros.query(\"Q006 == 'B'\")[\"NU_NOTA_TOTAL\"].mode()\n",
        "medianas_renda[\"moda_C\"] = dados_sem_notas_zeros.query(\"Q006 == 'C'\")[\"NU_NOTA_TOTAL\"].mode()\n",
        "medianas_renda[\"moda_D\"] = dados_sem_notas_zeros.query(\"Q006 == 'D'\")[\"NU_NOTA_TOTAL\"].mode()\n",
        "medianas_renda[\"moda_E\"] = dados_sem_notas_zeros.query(\"Q006 == 'E'\")[\"NU_NOTA_TOTAL\"].mode()\n",
        "medianas_renda[\"moda_F\"] = dados_sem_notas_zeros.query(\"Q006 == 'F'\")[\"NU_NOTA_TOTAL\"].mode()\n",
        "medianas_renda[\"moda_G\"] = dados_sem_notas_zeros.query(\"Q006 == 'G'\")[\"NU_NOTA_TOTAL\"].mode()\n",
        "medianas_renda[\"moda_H\"] = dados_sem_notas_zeros.query(\"Q006 == 'H'\")[\"NU_NOTA_TOTAL\"].mode()\n",
        "medianas_renda[\"moda_I\"] = dados_sem_notas_zeros.query(\"Q006 == 'I'\")[\"NU_NOTA_TOTAL\"].mode()\n",
        "medianas_renda[\"moda_J\"] = dados_sem_notas_zeros.query(\"Q006 == 'J'\")[\"NU_NOTA_TOTAL\"].mode()\n",
        "medianas_renda[\"moda_K\"] = dados_sem_notas_zeros.query(\"Q006 == 'K'\")[\"NU_NOTA_TOTAL\"].mode()\n",
        "medianas_renda[\"moda_L\"] = dados_sem_notas_zeros.query(\"Q006 == 'L'\")[\"NU_NOTA_TOTAL\"].mode()\n",
        "medianas_renda[\"moda_M\"] = dados_sem_notas_zeros.query(\"Q006 == 'M'\")[\"NU_NOTA_TOTAL\"].mode()\n",
        "medianas_renda[\"moda_N\"] = dados_sem_notas_zeros.query(\"Q006 == 'N'\")[\"NU_NOTA_TOTAL\"].mode()\n",
        "medianas_renda[\"moda_O\"] = dados_sem_notas_zeros.query(\"Q006 == 'O'\")[\"NU_NOTA_TOTAL\"].mode()\n",
        "medianas_renda[\"moda_P\"] = dados_sem_notas_zeros.query(\"Q006 == 'P'\")[\"NU_NOTA_TOTAL\"].mode()\n",
        "medianas_renda[\"moda_Q\"] = dados_sem_notas_zeros.query(\"Q006 == 'Q'\")[\"NU_NOTA_TOTAL\"].mode()\n",
        "#Verificando a nota mais frequntes para cada classe de renda\n",
        "medianas_renda"
      ],
      "execution_count": null,
      "outputs": [
        {
          "output_type": "execute_result",
          "data": {
            "text/html": [
              "<div>\n",
              "<style scoped>\n",
              "    .dataframe tbody tr th:only-of-type {\n",
              "        vertical-align: middle;\n",
              "    }\n",
              "\n",
              "    .dataframe tbody tr th {\n",
              "        vertical-align: top;\n",
              "    }\n",
              "\n",
              "    .dataframe thead th {\n",
              "        text-align: right;\n",
              "    }\n",
              "</style>\n",
              "<table border=\"1\" class=\"dataframe\">\n",
              "  <thead>\n",
              "    <tr style=\"text-align: right;\">\n",
              "      <th></th>\n",
              "      <th>moda_A</th>\n",
              "      <th>moda_B</th>\n",
              "      <th>moda_C</th>\n",
              "      <th>moda_D</th>\n",
              "      <th>moda_E</th>\n",
              "      <th>moda_F</th>\n",
              "      <th>moda_G</th>\n",
              "      <th>moda_H</th>\n",
              "      <th>moda_I</th>\n",
              "      <th>moda_J</th>\n",
              "      <th>moda_K</th>\n",
              "      <th>moda_L</th>\n",
              "      <th>moda_M</th>\n",
              "      <th>moda_N</th>\n",
              "      <th>moda_O</th>\n",
              "      <th>moda_P</th>\n",
              "      <th>moda_Q</th>\n",
              "    </tr>\n",
              "  </thead>\n",
              "  <tbody>\n",
              "    <tr>\n",
              "      <th>0</th>\n",
              "      <td>2589.7</td>\n",
              "      <td>2476.0</td>\n",
              "      <td>2547.3</td>\n",
              "      <td>2579.0</td>\n",
              "      <td>2492.3</td>\n",
              "      <td>2649.4</td>\n",
              "      <td>2660.0</td>\n",
              "      <td>2976.0</td>\n",
              "      <td>2692.0</td>\n",
              "      <td>2993.8</td>\n",
              "      <td>3065.1</td>\n",
              "      <td>2859.2</td>\n",
              "      <td>2864.7</td>\n",
              "      <td>3135.0</td>\n",
              "      <td>3109.0</td>\n",
              "      <td>3127.5</td>\n",
              "      <td>3201.4</td>\n",
              "    </tr>\n",
              "  </tbody>\n",
              "</table>\n",
              "</div>"
            ],
            "text/plain": [
              "   moda_A  moda_B  moda_C  moda_D  ...  moda_N  moda_O  moda_P  moda_Q\n",
              "0  2589.7  2476.0  2547.3  2579.0  ...  3135.0  3109.0  3127.5  3201.4\n",
              "\n",
              "[1 rows x 17 columns]"
            ]
          },
          "metadata": {
            "tags": []
          },
          "execution_count": 50
        }
      ]
    },
    {
      "cell_type": "markdown",
      "metadata": {
        "id": "5B9zLcVlFYL6"
      },
      "source": [
        "Observando também a moda, as notas mais frequentes, para cada classe de renda"
      ]
    },
    {
      "cell_type": "markdown",
      "metadata": {
        "id": "-oMcwJbPFrm8"
      },
      "source": [
        "Em relação as notas, é possível observar quais notas têm relação entre si, usado de suas correlações"
      ]
    },
    {
      "cell_type": "code",
      "metadata": {
        "id": "KBuNRI-aGBnz",
        "outputId": "bbfcf686-b61e-452a-ebce-67500cd6284f",
        "colab": {
          "base_uri": "https://localhost:8080/",
          "height": 390
        }
      },
      "source": [
        "correlacao = dados_sem_notas_zeros[provas].corr()\n",
        "mask = np.zeros_like(correlacao)\n",
        "mask[np.triu_indices_from(mask)] = True\n",
        "sns.heatmap(correlacao, cmap=\"Blues\", center=0, annot=True, mask=mask)\n",
        "plt.title(\"São Paulo\")"
      ],
      "execution_count": null,
      "outputs": [
        {
          "output_type": "execute_result",
          "data": {
            "text/plain": [
              "Text(0.5, 1.0, 'São Paulo')"
            ]
          },
          "metadata": {
            "tags": []
          },
          "execution_count": 51
        },
        {
          "output_type": "display_data",
          "data": {
            "image/png": "[encoded data removed]",
            "text/plain": [
              "<Figure size 432x288 with 2 Axes>"
            ]
          },
          "metadata": {
            "tags": [],
            "needs_background": "light"
          }
        }
      ]
    },
    {
      "cell_type": "markdown",
      "metadata": {
        "id": "UrTtEr-uJRLG"
      },
      "source": [
        "As correlações para as notas totais, por ser composto por todas as outras, iria mesmo possuir uma maior correlação com as outras matérias. Observando as notas de matemáticas e ciências naturais, estas têm maior relação com a nota total, seguidos por redação. Quanto às outras matérias, a maior correlação é entre ciências humanas e linguagens e códigos.  "
      ]
    },
    {
      "cell_type": "markdown",
      "metadata": {
        "id": "kcFidJP5MxlM"
      },
      "source": [
        "## Análise de quem prestou o enem com mais de 35 anos"
      ]
    },
    {
      "cell_type": "markdown",
      "metadata": {
        "id": "egknQCJ_NDsT"
      },
      "source": [
        "Um dos dados analisados durante o curso fora sobre os alunos com menos de 14 anos, neste relatório será analisado os vestibulandos que tem mais de 35 anos, a intenção é ver quem estaria prestando o enem e não é um estudante do ensino médio ou que ficou alguns anos fazendo cursinho, deste modo, procurar entender quem são esses participantes, se estão tentando mudar de carreira ou se não tiveram oportunidade de estudar antes , já que estão aposentados e aproveitaram para fazer a prova por algum motivo"
      ]
    },
    {
      "cell_type": "markdown",
      "metadata": {
        "id": "KKAVx-5ePCje"
      },
      "source": [
        "Primeiramente observando as idades dos participantes no geral"
      ]
    },
    {
      "cell_type": "code",
      "metadata": {
        "id": "ZVhjsMF6Pf_X"
      },
      "source": [
        "#obtendo a media, mediana e moda das idades ds participantes\n",
        "media_idade = dados[\"NU_IDADE\"].mean()\n",
        "moda_idade = dados[\"NU_IDADE\"].mode()\n",
        "mediana_idade = dados[\"NU_IDADE\"].median()"
      ],
      "execution_count": null,
      "outputs": []
    },
    {
      "cell_type": "code",
      "metadata": {
        "id": "A3J7OIQBNDM2",
        "outputId": "2e386e94-4c63-46d4-bb81-a11941cc242b",
        "colab": {
          "base_uri": "https://localhost:8080/",
          "height": 677
        }
      },
      "source": [
        "#detalhes do grafico\n",
        "plt.figure(figsize=(14,10))\n",
        "l_moda = plt.axvline(x=moda_idade[0], ymax=.95 ,color=\"red\", linestyle = \"--\")\n",
        "l_media = plt.axvline(x=media_idade, ymax = .2 ,color=\"green\", linestyle = \"--\")\n",
        "l_mediana = plt.axvline(x=mediana_idade, ymax=.6 ,color=\"orange\", linestyle = \"--\")\n",
        "#montando o gráfico\n",
        "sns.histplot(data=dados, x = \"NU_IDADE\")\n",
        "plt.title(\"Media, moda e mediana das idades\")\n",
        "plt.legend([l_moda, l_media, l_mediana], labels = [\"Moda\", \"Media\", \"Mediana\"] )\n",
        "plt.show()"
      ],
      "execution_count": null,
      "outputs": [
        {
          "output_type": "stream",
          "text": [
            "/usr/local/lib/python3.6/dist-packages/ipykernel_launcher.py:9: UserWarning: You have mixed positional and keyword arguments, some input may be discarded.\n",
            "  if __name__ == '__main__':\n"
          ],
          "name": "stderr"
        },
        {
          "output_type": "display_data",
          "data": {
            "image/png": "[encoded data removed]",
            "text/plain": [
              "<Figure size 1008x720 with 1 Axes>"
            ]
          },
          "metadata": {
            "tags": [],
            "needs_background": "light"
          }
        }
      ]
    },
    {
      "cell_type": "markdown",
      "metadata": {
        "id": "a0GVM0b-UGEH"
      },
      "source": [
        "A grande maioria são alunos de 17 e 18 anos. Agora selecionando as pessoas com 35 anos ou mais"
      ]
    },
    {
      "cell_type": "code",
      "metadata": {
        "id": "BcWT93bXUbEv",
        "outputId": "5135614b-12c1-4600-8e8f-aff4024c9753",
        "colab": {
          "base_uri": "https://localhost:8080/",
          "height": 406
        }
      },
      "source": [
        "dados_idade = dados_sem_notas_zeros.query(\"NU_IDADE >=35 \")\n",
        "plt.figure(figsize=(10,6))\n",
        "sns.histplot(data=dados_idade, x = \"NU_IDADE\")"
      ],
      "execution_count": null,
      "outputs": [
        {
          "output_type": "execute_result",
          "data": {
            "text/plain": [
              "<matplotlib.axes._subplots.AxesSubplot at 0x7f483ed989b0>"
            ]
          },
          "metadata": {
            "tags": []
          },
          "execution_count": 54
        },
        {
          "output_type": "display_data",
          "data": {
            "image/png": "[encoded data removed]",
            "text/plain": [
              "<Figure size 720x432 with 1 Axes>"
            ]
          },
          "metadata": {
            "tags": [],
            "needs_background": "light"
          }
        }
      ]
    },
    {
      "cell_type": "markdown",
      "metadata": {
        "id": "g182uh3EX6iH"
      },
      "source": [
        "A maioria dos membros desta amostra tem entre 35 e 45 anos. O próximo gráfico se observa como essas pessoas foram no enem, de acordo com a sua idade."
      ]
    },
    {
      "cell_type": "code",
      "metadata": {
        "id": "R_JRTb-yXC6L",
        "outputId": "3af99dfa-b95c-4951-9866-6f7e641f9f90",
        "colab": {
          "base_uri": "https://localhost:8080/",
          "height": 532
        }
      },
      "source": [
        "plt.figure(figsize=(14,8))\n",
        "sns.boxplot(x=\"NU_IDADE\", y = \"NU_NOTA_TOTAL\", data = dados_idade)\n",
        "plt.title(\"Olhando para as notas totais pela idade\")"
      ],
      "execution_count": null,
      "outputs": [
        {
          "output_type": "execute_result",
          "data": {
            "text/plain": [
              "Text(0.5, 1.0, 'Olhando para as notas totais pela idade')"
            ]
          },
          "metadata": {
            "tags": []
          },
          "execution_count": 55
        },
        {
          "output_type": "display_data",
          "data": {
            "image/png": "[encoded data removed]",
            "text/plain": [
              "<Figure size 1008x576 with 1 Axes>"
            ]
          },
          "metadata": {
            "tags": [],
            "needs_background": "light"
          }
        }
      ]
    },
    {
      "cell_type": "markdown",
      "metadata": {
        "id": "ESTzpbT2hgIp"
      },
      "source": [
        "Pode ser visto um leve declínio na nota conforme o aumento de idade, porém quanto maior a idade, se tem menos dados a serem analisados, o que pode tornar a comparação um pouco difícil, quanto a renda destas pessoas."
      ]
    },
    {
      "cell_type": "code",
      "metadata": {
        "id": "tZsGB-Prh8CP",
        "outputId": "8c1b28b2-d66a-47ac-8066-46c8106a5fea",
        "colab": {
          "base_uri": "https://localhost:8080/",
          "height": 462
        }
      },
      "source": [
        "plt.figure(figsize=(18,12))\n",
        "plt.subplot(2,2,1)\n",
        "sns.boxplot(x=\"Q006\", y = \"NU_IDADE\", data = dados_idade, order = renda)\n",
        "plt.subplot(2,2,2)\n",
        "dados_idade[\"Q006\"].value_counts().plot.bar()\n",
        "plt.suptitle(\"Renda pela idade\")"
      ],
      "execution_count": null,
      "outputs": [
        {
          "output_type": "execute_result",
          "data": {
            "text/plain": [
              "Text(0.5, 0.98, 'Renda pela idade')"
            ]
          },
          "metadata": {
            "tags": []
          },
          "execution_count": 56
        },
        {
          "output_type": "display_data",
          "data": {
            "image/png": "[encoded data removed]",
            "text/plain": [
              "<Figure size 1296x864 with 2 Axes>"
            ]
          },
          "metadata": {
            "tags": [],
            "needs_background": "light"
          }
        }
      ]
    },
    {
      "cell_type": "markdown",
      "metadata": {
        "id": "ZP54xsqX-d3J"
      },
      "source": [
        "C representa uma renda de 998,01 reais até R$ 1.497,00, que seria a maioria dos membros desta amostra, seguido por B, E e D, ou seja a maioria destes participantes tem uma renda que varia de 998,00 reais até 2.495,00, além disso, nesta faixa as idades variam, principalmete entre 35 e 48 anos."
      ]
    },
    {
      "cell_type": "markdown",
      "metadata": {
        "id": "FaIbElQWA2iI"
      },
      "source": [
        "Baseado apenas em opinião, os participantes acima de 70 anos, como estariam fazendo a prova sem realmente precisar e uma vez que existe grandes chances de já serem aposentados, seriam em sua maioria pessoas com maior renda por estarem fazendo a prova por \"luxo\", novamente tudo isso apenas uma opinião que se mostrou errada, assim será analisado estes casos"
      ]
    },
    {
      "cell_type": "code",
      "metadata": {
        "id": "R3E3j5AVCQyP",
        "outputId": "504213a9-bd1b-4dc8-a44b-c27f1ccb74cc",
        "colab": {
          "base_uri": "https://localhost:8080/",
          "height": 358
        }
      },
      "source": [
        "#separando as pessoa com mais de 70 anos\n",
        "dados_maior_idade = dados_sem_notas_zeros.query(\"NU_IDADE >=70\")\n",
        "\n",
        "plt.figure(figsize=(18,12))\n",
        "#Idade por renda\n",
        "plt.subplot(3,3,1)\n",
        "sns.boxplot(x=\"Q006\", y = \"NU_IDADE\", data = dados_maior_idade, order = renda)\n",
        "#Quantas pessoas em cada classe\n",
        "plt.subplot(3,3,2)\n",
        "dados_maior_idade[\"Q006\"].value_counts().plot.bar()\n",
        "#Sexo dos participantes\n",
        "plt.subplot(3,3,3)\n",
        "sns.histplot(data=dados_maior_idade, x = \"TP_SEXO\")\n",
        "plt.suptitle(\"Pessoas com mais de 70 anos\")\n"
      ],
      "execution_count": null,
      "outputs": [
        {
          "output_type": "execute_result",
          "data": {
            "text/plain": [
              "Text(0.5, 0.98, 'Pessoas com mais de 70 anos')"
            ]
          },
          "metadata": {
            "tags": []
          },
          "execution_count": 57
        },
        {
          "output_type": "display_data",
          "data": {
            "image/png": "[encoded data removed]",
            "text/plain": [
              "<Figure size 1296x864 with 3 Axes>"
            ]
          },
          "metadata": {
            "tags": [],
            "needs_background": "light"
          }
        }
      ]
    },
    {
      "cell_type": "markdown",
      "metadata": {
        "id": "bVl12vD1E0md"
      },
      "source": [
        "Estas pessoas ganham entre 998,00 e  1.497,00, por conta da idade isso é provável de ser suas aposentadorias, como existe a redução no salário pela previdência social e isso depende do quanto eles contribuiram para  aprevidência, não se pode afirmar a situação financeira destas pessoas, apenas de que provavelmente estes não estariam fazendo o enem para começar outra carreira, mesmo que sempre existe exceções, talvez o motivo seja um desafio pessoal ou uma vontade de fazer uma faculdade da qual não teve oportunidade antes. Não esxite uma diferença muto grande no número de homens e mulheres"
      ]
    },
    {
      "cell_type": "markdown",
      "metadata": {
        "id": "BiA1gbz2q9fB"
      },
      "source": [
        "A próxima análise é sobre a formação destas pessoa, se elas já estão formadas no ensino médio e quando se formaram"
      ]
    },
    {
      "cell_type": "code",
      "metadata": {
        "id": "86-TeKRZwEOd",
        "outputId": "ec07da45-c598-49df-f12c-49ca332e9e90",
        "colab": {
          "base_uri": "https://localhost:8080/",
          "height": 323
        }
      },
      "source": [
        "plt.figure(figsize=(14,8))\n",
        "plt.subplot(2,2,1)\n",
        "dados_idade[\"TP_ST_CONCLUSAO\"].value_counts().plot.bar(title = \"Se o participante já concluiu o ensino médio(1-SIM, 2-NÃO)\")\n",
        "plt.subplot(2,2,2)\n",
        "dados_idade[\"TP_ANO_CONCLUIU\"].value_counts().plot.bar(title=\"Ano de Conclusão\")\n",
        "plt.suptitle(\"Formação do ensino médio\")\n"
      ],
      "execution_count": null,
      "outputs": [
        {
          "output_type": "execute_result",
          "data": {
            "text/plain": [
              "Text(0.5, 0.98, 'Formação do ensino médio')"
            ]
          },
          "metadata": {
            "tags": []
          },
          "execution_count": 58
        },
        {
          "output_type": "display_data",
          "data": {
            "image/png": "[encoded data removed]",
            "text/plain": [
              "<Figure size 1008x576 with 2 Axes>"
            ]
          },
          "metadata": {
            "tags": [],
            "needs_background": "light"
          }
        }
      ]
    },
    {
      "cell_type": "markdown",
      "metadata": {
        "id": "pBrVgJ2TrSRp"
      },
      "source": [
        "O número 0 representa as pessoas que não informaram o ano de conclusão no endsino médio, 13 quer dizer que estes se formaram antes de 2007, e assim de 12 a 0 vai de 2007 até 2018. Como pode-se observar, a maioria já estava formada no ensino médio, uma menor parte provavelmente levou mais tempo para se formar ou não teve a oportunidade de fazê-lo antes."
      ]
    },
    {
      "cell_type": "markdown",
      "metadata": {
        "id": "Nr1viZnl4dRv"
      },
      "source": [
        "Por fim, as pessoas com mais de 35 anos parecem em sua maioria, ganhar entre um a três salários mínimos, se formaram no ensino médio antes de 2007 e em sua maioria tem entre 35 a 48 anos, não sendo uma idade comum para aposentados, logo pode-se concluir que estes já estão trabalhando ou já trabalharam e viram no ENEM uma oportunidade para melhorar profissionalmente. "
      ]
    }
  ]
}